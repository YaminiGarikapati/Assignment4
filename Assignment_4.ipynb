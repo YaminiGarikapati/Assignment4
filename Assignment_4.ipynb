{
  "nbformat": 4,
  "nbformat_minor": 0,
  "metadata": {
    "colab": {
      "provenance": [],
      "mount_file_id": "1-RSqh1Ol37loGSkxCfgrqiO6sa4ZbcHL",
      "authorship_tag": "ABX9TyP4dgVPbq6dxMf1ynF0IOtl",
      "include_colab_link": true
    },
    "kernelspec": {
      "name": "python3",
      "display_name": "Python 3"
    },
    "language_info": {
      "name": "python"
    }
  },
  "cells": [
    {
      "cell_type": "markdown",
      "metadata": {
        "id": "view-in-github",
        "colab_type": "text"
      },
      "source": [
        "<a href=\"https://colab.research.google.com/github/YaminiGarikapati/Assignment4/blob/main/Assignment_4.ipynb\" target=\"_parent\"><img src=\"https://colab.research.google.com/assets/colab-badge.svg\" alt=\"Open In Colab\"/></a>"
      ]
    },
    {
      "cell_type": "markdown",
      "source": [
        "#  1) Linear Regression\n",
        "# Apply Linear Regression to the provided dataset using underlying steps."
      ],
      "metadata": {
        "id": "uU-OwV5lU3ZI"
      }
    },
    {
      "cell_type": "code",
      "execution_count": 118,
      "metadata": {
        "id": "N92gcehjvu0S"
      },
      "outputs": [],
      "source": [
        "\n",
        "import pandas as pd\n",
        "import numpy as np\n",
        "import matplotlib.pyplot as plt\n",
        "from sklearn.model_selection import train_test_split\n",
        "from sklearn.linear_model import LinearRegression\n",
        "from sklearn import metrics\n",
        "from sklearn import preprocessing\n",
        "from sklearn.metrics import mean_squared_error\n",
        "from sklearn.cluster import KMeans\n",
        "from sklearn.impute import SimpleImputer\n",
        "from sklearn.decomposition import PCA\n",
        "from sklearn.preprocessing import LabelEncoder, StandardScaler\n",
        "import seaborn as sns\n",
        "sns.set(style=\"white\", color_codes=True)\n",
        "import warnings\n",
        "warnings.filterwarnings(\"ignore\")"
      ]
    },
    {
      "cell_type": "markdown",
      "source": [
        "# a. Import the given “Salary_Data.csv”"
      ],
      "metadata": {
        "id": "ASjnvdPKVIyl"
      }
    },
    {
      "cell_type": "code",
      "source": [
        "df=pd.read_csv(\"/content/drive/MyDrive/DataSet/Salary_Data.csv\")\n",
        "df.head()"
      ],
      "metadata": {
        "colab": {
          "base_uri": "https://localhost:8080/",
          "height": 206
        },
        "id": "Gs6Yn3ppv7Vd",
        "outputId": "75cc1b4f-8119-4e89-ddfd-fe00a6ed9b7a"
      },
      "execution_count": 119,
      "outputs": [
        {
          "output_type": "execute_result",
          "data": {
            "text/plain": [
              "   YearsExperience   Salary\n",
              "0              1.1  39343.0\n",
              "1              1.3  46205.0\n",
              "2              1.5  37731.0\n",
              "3              2.0  43525.0\n",
              "4              2.2  39891.0"
            ],
            "text/html": [
              "\n",
              "  <div id=\"df-cf697516-3e1d-4d2f-9ffe-e4057408ea60\">\n",
              "    <div class=\"colab-df-container\">\n",
              "      <div>\n",
              "<style scoped>\n",
              "    .dataframe tbody tr th:only-of-type {\n",
              "        vertical-align: middle;\n",
              "    }\n",
              "\n",
              "    .dataframe tbody tr th {\n",
              "        vertical-align: top;\n",
              "    }\n",
              "\n",
              "    .dataframe thead th {\n",
              "        text-align: right;\n",
              "    }\n",
              "</style>\n",
              "<table border=\"1\" class=\"dataframe\">\n",
              "  <thead>\n",
              "    <tr style=\"text-align: right;\">\n",
              "      <th></th>\n",
              "      <th>YearsExperience</th>\n",
              "      <th>Salary</th>\n",
              "    </tr>\n",
              "  </thead>\n",
              "  <tbody>\n",
              "    <tr>\n",
              "      <th>0</th>\n",
              "      <td>1.1</td>\n",
              "      <td>39343.0</td>\n",
              "    </tr>\n",
              "    <tr>\n",
              "      <th>1</th>\n",
              "      <td>1.3</td>\n",
              "      <td>46205.0</td>\n",
              "    </tr>\n",
              "    <tr>\n",
              "      <th>2</th>\n",
              "      <td>1.5</td>\n",
              "      <td>37731.0</td>\n",
              "    </tr>\n",
              "    <tr>\n",
              "      <th>3</th>\n",
              "      <td>2.0</td>\n",
              "      <td>43525.0</td>\n",
              "    </tr>\n",
              "    <tr>\n",
              "      <th>4</th>\n",
              "      <td>2.2</td>\n",
              "      <td>39891.0</td>\n",
              "    </tr>\n",
              "  </tbody>\n",
              "</table>\n",
              "</div>\n",
              "      <button class=\"colab-df-convert\" onclick=\"convertToInteractive('df-cf697516-3e1d-4d2f-9ffe-e4057408ea60')\"\n",
              "              title=\"Convert this dataframe to an interactive table.\"\n",
              "              style=\"display:none;\">\n",
              "        \n",
              "  <svg xmlns=\"http://www.w3.org/2000/svg\" height=\"24px\"viewBox=\"0 0 24 24\"\n",
              "       width=\"24px\">\n",
              "    <path d=\"M0 0h24v24H0V0z\" fill=\"none\"/>\n",
              "    <path d=\"M18.56 5.44l.94 2.06.94-2.06 2.06-.94-2.06-.94-.94-2.06-.94 2.06-2.06.94zm-11 1L8.5 8.5l.94-2.06 2.06-.94-2.06-.94L8.5 2.5l-.94 2.06-2.06.94zm10 10l.94 2.06.94-2.06 2.06-.94-2.06-.94-.94-2.06-.94 2.06-2.06.94z\"/><path d=\"M17.41 7.96l-1.37-1.37c-.4-.4-.92-.59-1.43-.59-.52 0-1.04.2-1.43.59L10.3 9.45l-7.72 7.72c-.78.78-.78 2.05 0 2.83L4 21.41c.39.39.9.59 1.41.59.51 0 1.02-.2 1.41-.59l7.78-7.78 2.81-2.81c.8-.78.8-2.07 0-2.86zM5.41 20L4 18.59l7.72-7.72 1.47 1.35L5.41 20z\"/>\n",
              "  </svg>\n",
              "      </button>\n",
              "      \n",
              "  <style>\n",
              "    .colab-df-container {\n",
              "      display:flex;\n",
              "      flex-wrap:wrap;\n",
              "      gap: 12px;\n",
              "    }\n",
              "\n",
              "    .colab-df-convert {\n",
              "      background-color: #E8F0FE;\n",
              "      border: none;\n",
              "      border-radius: 50%;\n",
              "      cursor: pointer;\n",
              "      display: none;\n",
              "      fill: #1967D2;\n",
              "      height: 32px;\n",
              "      padding: 0 0 0 0;\n",
              "      width: 32px;\n",
              "    }\n",
              "\n",
              "    .colab-df-convert:hover {\n",
              "      background-color: #E2EBFA;\n",
              "      box-shadow: 0px 1px 2px rgba(60, 64, 67, 0.3), 0px 1px 3px 1px rgba(60, 64, 67, 0.15);\n",
              "      fill: #174EA6;\n",
              "    }\n",
              "\n",
              "    [theme=dark] .colab-df-convert {\n",
              "      background-color: #3B4455;\n",
              "      fill: #D2E3FC;\n",
              "    }\n",
              "\n",
              "    [theme=dark] .colab-df-convert:hover {\n",
              "      background-color: #434B5C;\n",
              "      box-shadow: 0px 1px 3px 1px rgba(0, 0, 0, 0.15);\n",
              "      filter: drop-shadow(0px 1px 2px rgba(0, 0, 0, 0.3));\n",
              "      fill: #FFFFFF;\n",
              "    }\n",
              "  </style>\n",
              "\n",
              "      <script>\n",
              "        const buttonEl =\n",
              "          document.querySelector('#df-cf697516-3e1d-4d2f-9ffe-e4057408ea60 button.colab-df-convert');\n",
              "        buttonEl.style.display =\n",
              "          google.colab.kernel.accessAllowed ? 'block' : 'none';\n",
              "\n",
              "        async function convertToInteractive(key) {\n",
              "          const element = document.querySelector('#df-cf697516-3e1d-4d2f-9ffe-e4057408ea60');\n",
              "          const dataTable =\n",
              "            await google.colab.kernel.invokeFunction('convertToInteractive',\n",
              "                                                     [key], {});\n",
              "          if (!dataTable) return;\n",
              "\n",
              "          const docLinkHtml = 'Like what you see? Visit the ' +\n",
              "            '<a target=\"_blank\" href=https://colab.research.google.com/notebooks/data_table.ipynb>data table notebook</a>'\n",
              "            + ' to learn more about interactive tables.';\n",
              "          element.innerHTML = '';\n",
              "          dataTable['output_type'] = 'display_data';\n",
              "          await google.colab.output.renderOutput(dataTable, element);\n",
              "          const docLink = document.createElement('div');\n",
              "          docLink.innerHTML = docLinkHtml;\n",
              "          element.appendChild(docLink);\n",
              "        }\n",
              "      </script>\n",
              "    </div>\n",
              "  </div>\n",
              "  "
            ]
          },
          "metadata": {},
          "execution_count": 119
        }
      ]
    },
    {
      "cell_type": "markdown",
      "source": [
        "# b) Split the data in train_test partitions, such that 1/3 of the data is reserved as test subset."
      ],
      "metadata": {
        "id": "RL3YISxQVYm3"
      }
    },
    {
      "cell_type": "code",
      "source": [
        "A = df.iloc[:, :-1].values\n",
        "B = df.iloc[:, 1].values\n",
        "A_Train, A_Test, B_Train, B_Test = train_test_split(A,B, test_size=1/3,random_state = 0)"
      ],
      "metadata": {
        "id": "_pl1Aql_wOMK"
      },
      "execution_count": 120,
      "outputs": []
    },
    {
      "cell_type": "markdown",
      "source": [
        "# c) Train and predict the model. "
      ],
      "metadata": {
        "id": "zQSBcnKgVesW"
      }
    },
    {
      "cell_type": "code",
      "source": [
        "reg = LinearRegression()\n",
        "reg.fit(A_Train, B_Train)\n",
        "\n",
        "B_Pred = reg.predict(A_Test)"
      ],
      "metadata": {
        "id": "L-S2_qlMw03K"
      },
      "execution_count": 121,
      "outputs": []
    },
    {
      "cell_type": "markdown",
      "source": [
        "# d)  Calculate the mean_squared error"
      ],
      "metadata": {
        "id": "qjqZT2H6Vi4s"
      }
    },
    {
      "cell_type": "code",
      "source": [
        "mean_squared_error(B_Test,B_Pred)"
      ],
      "metadata": {
        "colab": {
          "base_uri": "https://localhost:8080/"
        },
        "id": "xqYFWVi2xBsB",
        "outputId": "65af5563-7bdd-4c73-d6ae-691c9aab9ed1"
      },
      "execution_count": 122,
      "outputs": [
        {
          "output_type": "execute_result",
          "data": {
            "text/plain": [
              "21026037.329511296"
            ]
          },
          "metadata": {},
          "execution_count": 122
        }
      ]
    },
    {
      "cell_type": "markdown",
      "source": [
        "# e) Visualize both train and test data using scatter plot."
      ],
      "metadata": {
        "id": "GL4xL6b2Vx2a"
      }
    },
    {
      "cell_type": "code",
      "source": [
        "plt.title('Train data')\n",
        "plt.xlabel('Experience in Years')\n",
        "plt.ylabel('Sal')\n",
        "plt.scatter(A_Train, B_Train)\n",
        "plt.show()"
      ],
      "metadata": {
        "colab": {
          "base_uri": "https://localhost:8080/",
          "height": 301
        },
        "id": "G7NS2ArtxHjW",
        "outputId": "e310c617-7d54-4565-993e-7b292d02f68e"
      },
      "execution_count": 123,
      "outputs": [
        {
          "output_type": "display_data",
          "data": {
            "text/plain": [
              "<Figure size 432x288 with 1 Axes>"
            ],
            "image/png": "[encoded data removed]"
          },
          "metadata": {}
        }
      ]
    },
    {
      "cell_type": "code",
      "source": [
        "plt.title('Test data')\n",
        "plt.xlabel('Experience in Years')\n",
        "plt.ylabel('Sal')\n",
        "plt.scatter(A_Test, B_Test)\n",
        "plt.show()"
      ],
      "metadata": {
        "colab": {
          "base_uri": "https://localhost:8080/",
          "height": 301
        },
        "id": "IQ-g1b5XxXq3",
        "outputId": "0aeee5a4-4fb6-4722-c595-97258787b47c"
      },
      "execution_count": 124,
      "outputs": [
        {
          "output_type": "display_data",
          "data": {
            "text/plain": [
              "<Figure size 432x288 with 1 Axes>"
            ],
            "image/png": "[encoded data removed]"
          },
          "metadata": {}
        }
      ]
    },
    {
      "cell_type": "markdown",
      "source": [
        "# 2) K Means Clustering\n",
        "\n",
        "# Apply K means clustering in the dataset provided:\n"
      ],
      "metadata": {
        "id": "nJqZ-Z_oWPla"
      }
    },
    {
      "cell_type": "code",
      "source": [
        "df2=pd.read_csv(\"/content/drive/MyDrive/DataSet/K-Mean_Dataset.csv\")\n",
        "df2.head()"
      ],
      "metadata": {
        "colab": {
          "base_uri": "https://localhost:8080/",
          "height": 270
        },
        "id": "1RxLMxQZxiQe",
        "outputId": "cb72e457-da26-4121-824a-b4c9d14e5d9c"
      },
      "execution_count": 125,
      "outputs": [
        {
          "output_type": "execute_result",
          "data": {
            "text/plain": [
              "  CUST_ID      BALANCE  BALANCE_FREQUENCY  PURCHASES  ONEOFF_PURCHASES  \\\n",
              "0  C10001    40.900749           0.818182      95.40              0.00   \n",
              "1  C10002  3202.467416           0.909091       0.00              0.00   \n",
              "2  C10003  2495.148862           1.000000     773.17            773.17   \n",
              "3  C10004  1666.670542           0.636364    1499.00           1499.00   \n",
              "4  C10005   817.714335           1.000000      16.00             16.00   \n",
              "\n",
              "   INSTALLMENTS_PURCHASES  CASH_ADVANCE  PURCHASES_FREQUENCY  \\\n",
              "0                    95.4      0.000000             0.166667   \n",
              "1                     0.0   6442.945483             0.000000   \n",
              "2                     0.0      0.000000             1.000000   \n",
              "3                     0.0    205.788017             0.083333   \n",
              "4                     0.0      0.000000             0.083333   \n",
              "\n",
              "   ONEOFF_PURCHASES_FREQUENCY  PURCHASES_INSTALLMENTS_FREQUENCY  \\\n",
              "0                    0.000000                          0.083333   \n",
              "1                    0.000000                          0.000000   \n",
              "2                    1.000000                          0.000000   \n",
              "3                    0.083333                          0.000000   \n",
              "4                    0.083333                          0.000000   \n",
              "\n",
              "   CASH_ADVANCE_FREQUENCY  CASH_ADVANCE_TRX  PURCHASES_TRX  CREDIT_LIMIT  \\\n",
              "0                0.000000                 0              2        1000.0   \n",
              "1                0.250000                 4              0        7000.0   \n",
              "2                0.000000                 0             12        7500.0   \n",
              "3                0.083333                 1              1        7500.0   \n",
              "4                0.000000                 0              1        1200.0   \n",
              "\n",
              "      PAYMENTS  MINIMUM_PAYMENTS  PRC_FULL_PAYMENT  TENURE  \n",
              "0   201.802084        139.509787          0.000000      12  \n",
              "1  4103.032597       1072.340217          0.222222      12  \n",
              "2   622.066742        627.284787          0.000000      12  \n",
              "3     0.000000               NaN          0.000000      12  \n",
              "4   678.334763        244.791237          0.000000      12  "
            ],
            "text/html": [
              "\n",
              "  <div id=\"df-525cf4ee-47d0-45a4-8037-48e498789f42\">\n",
              "    <div class=\"colab-df-container\">\n",
              "      <div>\n",
              "<style scoped>\n",
              "    .dataframe tbody tr th:only-of-type {\n",
              "        vertical-align: middle;\n",
              "    }\n",
              "\n",
              "    .dataframe tbody tr th {\n",
              "        vertical-align: top;\n",
              "    }\n",
              "\n",
              "    .dataframe thead th {\n",
              "        text-align: right;\n",
              "    }\n",
              "</style>\n",
              "<table border=\"1\" class=\"dataframe\">\n",
              "  <thead>\n",
              "    <tr style=\"text-align: right;\">\n",
              "      <th></th>\n",
              "      <th>CUST_ID</th>\n",
              "      <th>BALANCE</th>\n",
              "      <th>BALANCE_FREQUENCY</th>\n",
              "      <th>PURCHASES</th>\n",
              "      <th>ONEOFF_PURCHASES</th>\n",
              "      <th>INSTALLMENTS_PURCHASES</th>\n",
              "      <th>CASH_ADVANCE</th>\n",
              "      <th>PURCHASES_FREQUENCY</th>\n",
              "      <th>ONEOFF_PURCHASES_FREQUENCY</th>\n",
              "      <th>PURCHASES_INSTALLMENTS_FREQUENCY</th>\n",
              "      <th>CASH_ADVANCE_FREQUENCY</th>\n",
              "      <th>CASH_ADVANCE_TRX</th>\n",
              "      <th>PURCHASES_TRX</th>\n",
              "      <th>CREDIT_LIMIT</th>\n",
              "      <th>PAYMENTS</th>\n",
              "      <th>MINIMUM_PAYMENTS</th>\n",
              "      <th>PRC_FULL_PAYMENT</th>\n",
              "      <th>TENURE</th>\n",
              "    </tr>\n",
              "  </thead>\n",
              "  <tbody>\n",
              "    <tr>\n",
              "      <th>0</th>\n",
              "      <td>C10001</td>\n",
              "      <td>40.900749</td>\n",
              "      <td>0.818182</td>\n",
              "      <td>95.40</td>\n",
              "      <td>0.00</td>\n",
              "      <td>95.4</td>\n",
              "      <td>0.000000</td>\n",
              "      <td>0.166667</td>\n",
              "      <td>0.000000</td>\n",
              "      <td>0.083333</td>\n",
              "      <td>0.000000</td>\n",
              "      <td>0</td>\n",
              "      <td>2</td>\n",
              "      <td>1000.0</td>\n",
              "      <td>201.802084</td>\n",
              "      <td>139.509787</td>\n",
              "      <td>0.000000</td>\n",
              "      <td>12</td>\n",
              "    </tr>\n",
              "    <tr>\n",
              "      <th>1</th>\n",
              "      <td>C10002</td>\n",
              "      <td>3202.467416</td>\n",
              "      <td>0.909091</td>\n",
              "      <td>0.00</td>\n",
              "      <td>0.00</td>\n",
              "      <td>0.0</td>\n",
              "      <td>6442.945483</td>\n",
              "      <td>0.000000</td>\n",
              "      <td>0.000000</td>\n",
              "      <td>0.000000</td>\n",
              "      <td>0.250000</td>\n",
              "      <td>4</td>\n",
              "      <td>0</td>\n",
              "      <td>7000.0</td>\n",
              "      <td>4103.032597</td>\n",
              "      <td>1072.340217</td>\n",
              "      <td>0.222222</td>\n",
              "      <td>12</td>\n",
              "    </tr>\n",
              "    <tr>\n",
              "      <th>2</th>\n",
              "      <td>C10003</td>\n",
              "      <td>2495.148862</td>\n",
              "      <td>1.000000</td>\n",
              "      <td>773.17</td>\n",
              "      <td>773.17</td>\n",
              "      <td>0.0</td>\n",
              "      <td>0.000000</td>\n",
              "      <td>1.000000</td>\n",
              "      <td>1.000000</td>\n",
              "      <td>0.000000</td>\n",
              "      <td>0.000000</td>\n",
              "      <td>0</td>\n",
              "      <td>12</td>\n",
              "      <td>7500.0</td>\n",
              "      <td>622.066742</td>\n",
              "      <td>627.284787</td>\n",
              "      <td>0.000000</td>\n",
              "      <td>12</td>\n",
              "    </tr>\n",
              "    <tr>\n",
              "      <th>3</th>\n",
              "      <td>C10004</td>\n",
              "      <td>1666.670542</td>\n",
              "      <td>0.636364</td>\n",
              "      <td>1499.00</td>\n",
              "      <td>1499.00</td>\n",
              "      <td>0.0</td>\n",
              "      <td>205.788017</td>\n",
              "      <td>0.083333</td>\n",
              "      <td>0.083333</td>\n",
              "      <td>0.000000</td>\n",
              "      <td>0.083333</td>\n",
              "      <td>1</td>\n",
              "      <td>1</td>\n",
              "      <td>7500.0</td>\n",
              "      <td>0.000000</td>\n",
              "      <td>NaN</td>\n",
              "      <td>0.000000</td>\n",
              "      <td>12</td>\n",
              "    </tr>\n",
              "    <tr>\n",
              "      <th>4</th>\n",
              "      <td>C10005</td>\n",
              "      <td>817.714335</td>\n",
              "      <td>1.000000</td>\n",
              "      <td>16.00</td>\n",
              "      <td>16.00</td>\n",
              "      <td>0.0</td>\n",
              "      <td>0.000000</td>\n",
              "      <td>0.083333</td>\n",
              "      <td>0.083333</td>\n",
              "      <td>0.000000</td>\n",
              "      <td>0.000000</td>\n",
              "      <td>0</td>\n",
              "      <td>1</td>\n",
              "      <td>1200.0</td>\n",
              "      <td>678.334763</td>\n",
              "      <td>244.791237</td>\n",
              "      <td>0.000000</td>\n",
              "      <td>12</td>\n",
              "    </tr>\n",
              "  </tbody>\n",
              "</table>\n",
              "</div>\n",
              "      <button class=\"colab-df-convert\" onclick=\"convertToInteractive('df-525cf4ee-47d0-45a4-8037-48e498789f42')\"\n",
              "              title=\"Convert this dataframe to an interactive table.\"\n",
              "              style=\"display:none;\">\n",
              "        \n",
              "  <svg xmlns=\"http://www.w3.org/2000/svg\" height=\"24px\"viewBox=\"0 0 24 24\"\n",
              "       width=\"24px\">\n",
              "    <path d=\"M0 0h24v24H0V0z\" fill=\"none\"/>\n",
              "    <path d=\"M18.56 5.44l.94 2.06.94-2.06 2.06-.94-2.06-.94-.94-2.06-.94 2.06-2.06.94zm-11 1L8.5 8.5l.94-2.06 2.06-.94-2.06-.94L8.5 2.5l-.94 2.06-2.06.94zm10 10l.94 2.06.94-2.06 2.06-.94-2.06-.94-.94-2.06-.94 2.06-2.06.94z\"/><path d=\"M17.41 7.96l-1.37-1.37c-.4-.4-.92-.59-1.43-.59-.52 0-1.04.2-1.43.59L10.3 9.45l-7.72 7.72c-.78.78-.78 2.05 0 2.83L4 21.41c.39.39.9.59 1.41.59.51 0 1.02-.2 1.41-.59l7.78-7.78 2.81-2.81c.8-.78.8-2.07 0-2.86zM5.41 20L4 18.59l7.72-7.72 1.47 1.35L5.41 20z\"/>\n",
              "  </svg>\n",
              "      </button>\n",
              "      \n",
              "  <style>\n",
              "    .colab-df-container {\n",
              "      display:flex;\n",
              "      flex-wrap:wrap;\n",
              "      gap: 12px;\n",
              "    }\n",
              "\n",
              "    .colab-df-convert {\n",
              "      background-color: #E8F0FE;\n",
              "      border: none;\n",
              "      border-radius: 50%;\n",
              "      cursor: pointer;\n",
              "      display: none;\n",
              "      fill: #1967D2;\n",
              "      height: 32px;\n",
              "      padding: 0 0 0 0;\n",
              "      width: 32px;\n",
              "    }\n",
              "\n",
              "    .colab-df-convert:hover {\n",
              "      background-color: #E2EBFA;\n",
              "      box-shadow: 0px 1px 2px rgba(60, 64, 67, 0.3), 0px 1px 3px 1px rgba(60, 64, 67, 0.15);\n",
              "      fill: #174EA6;\n",
              "    }\n",
              "\n",
              "    [theme=dark] .colab-df-convert {\n",
              "      background-color: #3B4455;\n",
              "      fill: #D2E3FC;\n",
              "    }\n",
              "\n",
              "    [theme=dark] .colab-df-convert:hover {\n",
              "      background-color: #434B5C;\n",
              "      box-shadow: 0px 1px 3px 1px rgba(0, 0, 0, 0.15);\n",
              "      filter: drop-shadow(0px 1px 2px rgba(0, 0, 0, 0.3));\n",
              "      fill: #FFFFFF;\n",
              "    }\n",
              "  </style>\n",
              "\n",
              "      <script>\n",
              "        const buttonEl =\n",
              "          document.querySelector('#df-525cf4ee-47d0-45a4-8037-48e498789f42 button.colab-df-convert');\n",
              "        buttonEl.style.display =\n",
              "          google.colab.kernel.accessAllowed ? 'block' : 'none';\n",
              "\n",
              "        async function convertToInteractive(key) {\n",
              "          const element = document.querySelector('#df-525cf4ee-47d0-45a4-8037-48e498789f42');\n",
              "          const dataTable =\n",
              "            await google.colab.kernel.invokeFunction('convertToInteractive',\n",
              "                                                     [key], {});\n",
              "          if (!dataTable) return;\n",
              "\n",
              "          const docLinkHtml = 'Like what you see? Visit the ' +\n",
              "            '<a target=\"_blank\" href=https://colab.research.google.com/notebooks/data_table.ipynb>data table notebook</a>'\n",
              "            + ' to learn more about interactive tables.';\n",
              "          element.innerHTML = '';\n",
              "          dataTable['output_type'] = 'display_data';\n",
              "          await google.colab.output.renderOutput(dataTable, element);\n",
              "          const docLink = document.createElement('div');\n",
              "          docLink.innerHTML = docLinkHtml;\n",
              "          element.appendChild(docLink);\n",
              "        }\n",
              "      </script>\n",
              "    </div>\n",
              "  </div>\n",
              "  "
            ]
          },
          "metadata": {},
          "execution_count": 125
        }
      ]
    },
    {
      "cell_type": "markdown",
      "source": [
        "## a) Remove any null values by the mean"
      ],
      "metadata": {
        "id": "IZ8POR21WbsS"
      }
    },
    {
      "cell_type": "code",
      "source": [
        "M = df2.iloc[:, 1:].values\n",
        "\n",
        "imputer = SimpleImputer(missing_values=np.nan, strategy='mean')\n",
        "imputer = imputer.fit(M)\n",
        "M = imputer.transform(M)"
      ],
      "metadata": {
        "id": "fKIu5XdCxvmh"
      },
      "execution_count": 126,
      "outputs": []
    },
    {
      "cell_type": "code",
      "source": [
        "df2.columns"
      ],
      "metadata": {
        "colab": {
          "base_uri": "https://localhost:8080/"
        },
        "id": "p5A1UH-ARSF7",
        "outputId": "e2627238-6996-4b8a-a418-7da82cb20b6c"
      },
      "execution_count": 127,
      "outputs": [
        {
          "output_type": "execute_result",
          "data": {
            "text/plain": [
              "Index(['CUST_ID', 'BALANCE', 'BALANCE_FREQUENCY', 'PURCHASES',\n",
              "       'ONEOFF_PURCHASES', 'INSTALLMENTS_PURCHASES', 'CASH_ADVANCE',\n",
              "       'PURCHASES_FREQUENCY', 'ONEOFF_PURCHASES_FREQUENCY',\n",
              "       'PURCHASES_INSTALLMENTS_FREQUENCY', 'CASH_ADVANCE_FREQUENCY',\n",
              "       'CASH_ADVANCE_TRX', 'PURCHASES_TRX', 'CREDIT_LIMIT', 'PAYMENTS',\n",
              "       'MINIMUM_PAYMENTS', 'PRC_FULL_PAYMENT', 'TENURE'],\n",
              "      dtype='object')"
            ]
          },
          "metadata": {},
          "execution_count": 127
        }
      ]
    },
    {
      "cell_type": "code",
      "source": [
        "print(\"\\033[1m==> Ckeck Null Values \\n\")\n",
        "null_ = df2.isnull().any()\n",
        "display(null_)"
      ],
      "metadata": {
        "colab": {
          "base_uri": "https://localhost:8080/",
          "height": 381
        },
        "id": "vCnE3qYKT6Pr",
        "outputId": "8b0b5ce0-a58f-4e5d-8d2b-d055d735172b"
      },
      "execution_count": 128,
      "outputs": [
        {
          "output_type": "stream",
          "name": "stdout",
          "text": [
            "\u001b[1m==> Ckeck Null Values \n",
            "\n"
          ]
        },
        {
          "output_type": "display_data",
          "data": {
            "text/plain": [
              "CUST_ID                             False\n",
              "BALANCE                             False\n",
              "BALANCE_FREQUENCY                   False\n",
              "PURCHASES                           False\n",
              "ONEOFF_PURCHASES                    False\n",
              "INSTALLMENTS_PURCHASES              False\n",
              "CASH_ADVANCE                        False\n",
              "PURCHASES_FREQUENCY                 False\n",
              "ONEOFF_PURCHASES_FREQUENCY          False\n",
              "PURCHASES_INSTALLMENTS_FREQUENCY    False\n",
              "CASH_ADVANCE_FREQUENCY              False\n",
              "CASH_ADVANCE_TRX                    False\n",
              "PURCHASES_TRX                       False\n",
              "CREDIT_LIMIT                         True\n",
              "PAYMENTS                            False\n",
              "MINIMUM_PAYMENTS                     True\n",
              "PRC_FULL_PAYMENT                    False\n",
              "TENURE                              False\n",
              "dtype: bool"
            ]
          },
          "metadata": {}
        }
      ]
    },
    {
      "cell_type": "code",
      "source": [
        "print(\"\\033[1m==> Columns having Null Values \\n\")\n",
        "null_col = df2.columns[df2.isnull().any()].tolist()\n",
        "display(null_col)"
      ],
      "metadata": {
        "colab": {
          "base_uri": "https://localhost:8080/",
          "height": 69
        },
        "id": "ZqHE0PDYT_QD",
        "outputId": "5dd8413c-5b81-46a8-a990-a75b315cc963"
      },
      "execution_count": 129,
      "outputs": [
        {
          "output_type": "stream",
          "name": "stdout",
          "text": [
            "\u001b[1m==> Columns having Null Values \n",
            "\n"
          ]
        },
        {
          "output_type": "display_data",
          "data": {
            "text/plain": [
              "['CREDIT_LIMIT', 'MINIMUM_PAYMENTS']"
            ]
          },
          "metadata": {}
        }
      ]
    },
    {
      "cell_type": "code",
      "source": [
        "print(\"\\033[1m\\n==> Genral Stats \\n\")\n",
        "display(df2.describe().T)\n"
      ],
      "metadata": {
        "colab": {
          "base_uri": "https://localhost:8080/",
          "height": 634
        },
        "id": "9ap5Luf0UHBi",
        "outputId": "4ba9f600-20eb-4d78-c27a-05ff40551479"
      },
      "execution_count": 130,
      "outputs": [
        {
          "output_type": "stream",
          "name": "stdout",
          "text": [
            "\u001b[1m\n",
            "==> Genral Stats \n",
            "\n"
          ]
        },
        {
          "output_type": "display_data",
          "data": {
            "text/plain": [
              "                                   count         mean          std        min  \\\n",
              "BALANCE                           8950.0  1564.474828  2081.531879   0.000000   \n",
              "BALANCE_FREQUENCY                 8950.0     0.877271     0.236904   0.000000   \n",
              "PURCHASES                         8950.0  1003.204834  2136.634782   0.000000   \n",
              "ONEOFF_PURCHASES                  8950.0   592.437371  1659.887917   0.000000   \n",
              "INSTALLMENTS_PURCHASES            8950.0   411.067645   904.338115   0.000000   \n",
              "CASH_ADVANCE                      8950.0   978.871112  2097.163877   0.000000   \n",
              "PURCHASES_FREQUENCY               8950.0     0.490351     0.401371   0.000000   \n",
              "ONEOFF_PURCHASES_FREQUENCY        8950.0     0.202458     0.298336   0.000000   \n",
              "PURCHASES_INSTALLMENTS_FREQUENCY  8950.0     0.364437     0.397448   0.000000   \n",
              "CASH_ADVANCE_FREQUENCY            8950.0     0.135144     0.200121   0.000000   \n",
              "CASH_ADVANCE_TRX                  8950.0     3.248827     6.824647   0.000000   \n",
              "PURCHASES_TRX                     8950.0    14.709832    24.857649   0.000000   \n",
              "CREDIT_LIMIT                      8949.0  4494.449450  3638.815725  50.000000   \n",
              "PAYMENTS                          8950.0  1733.143852  2895.063757   0.000000   \n",
              "MINIMUM_PAYMENTS                  8637.0   864.206542  2372.446607   0.019163   \n",
              "PRC_FULL_PAYMENT                  8950.0     0.153715     0.292499   0.000000   \n",
              "TENURE                            8950.0    11.517318     1.338331   6.000000   \n",
              "\n",
              "                                          25%          50%          75%  \\\n",
              "BALANCE                            128.281915   873.385231  2054.140036   \n",
              "BALANCE_FREQUENCY                    0.888889     1.000000     1.000000   \n",
              "PURCHASES                           39.635000   361.280000  1110.130000   \n",
              "ONEOFF_PURCHASES                     0.000000    38.000000   577.405000   \n",
              "INSTALLMENTS_PURCHASES               0.000000    89.000000   468.637500   \n",
              "CASH_ADVANCE                         0.000000     0.000000  1113.821139   \n",
              "PURCHASES_FREQUENCY                  0.083333     0.500000     0.916667   \n",
              "ONEOFF_PURCHASES_FREQUENCY           0.000000     0.083333     0.300000   \n",
              "PURCHASES_INSTALLMENTS_FREQUENCY     0.000000     0.166667     0.750000   \n",
              "CASH_ADVANCE_FREQUENCY               0.000000     0.000000     0.222222   \n",
              "CASH_ADVANCE_TRX                     0.000000     0.000000     4.000000   \n",
              "PURCHASES_TRX                        1.000000     7.000000    17.000000   \n",
              "CREDIT_LIMIT                      1600.000000  3000.000000  6500.000000   \n",
              "PAYMENTS                           383.276166   856.901546  1901.134317   \n",
              "MINIMUM_PAYMENTS                   169.123707   312.343947   825.485459   \n",
              "PRC_FULL_PAYMENT                     0.000000     0.000000     0.142857   \n",
              "TENURE                              12.000000    12.000000    12.000000   \n",
              "\n",
              "                                          max  \n",
              "BALANCE                           19043.13856  \n",
              "BALANCE_FREQUENCY                     1.00000  \n",
              "PURCHASES                         49039.57000  \n",
              "ONEOFF_PURCHASES                  40761.25000  \n",
              "INSTALLMENTS_PURCHASES            22500.00000  \n",
              "CASH_ADVANCE                      47137.21176  \n",
              "PURCHASES_FREQUENCY                   1.00000  \n",
              "ONEOFF_PURCHASES_FREQUENCY            1.00000  \n",
              "PURCHASES_INSTALLMENTS_FREQUENCY      1.00000  \n",
              "CASH_ADVANCE_FREQUENCY                1.50000  \n",
              "CASH_ADVANCE_TRX                    123.00000  \n",
              "PURCHASES_TRX                       358.00000  \n",
              "CREDIT_LIMIT                      30000.00000  \n",
              "PAYMENTS                          50721.48336  \n",
              "MINIMUM_PAYMENTS                  76406.20752  \n",
              "PRC_FULL_PAYMENT                      1.00000  \n",
              "TENURE                               12.00000  "
            ],
            "text/html": [
              "\n",
              "  <div id=\"df-6e6d1b68-2a46-4750-b61e-8e1f910d0ae0\">\n",
              "    <div class=\"colab-df-container\">\n",
              "      <div>\n",
              "<style scoped>\n",
              "    .dataframe tbody tr th:only-of-type {\n",
              "        vertical-align: middle;\n",
              "    }\n",
              "\n",
              "    .dataframe tbody tr th {\n",
              "        vertical-align: top;\n",
              "    }\n",
              "\n",
              "    .dataframe thead th {\n",
              "        text-align: right;\n",
              "    }\n",
              "</style>\n",
              "<table border=\"1\" class=\"dataframe\">\n",
              "  <thead>\n",
              "    <tr style=\"text-align: right;\">\n",
              "      <th></th>\n",
              "      <th>count</th>\n",
              "      <th>mean</th>\n",
              "      <th>std</th>\n",
              "      <th>min</th>\n",
              "      <th>25%</th>\n",
              "      <th>50%</th>\n",
              "      <th>75%</th>\n",
              "      <th>max</th>\n",
              "    </tr>\n",
              "  </thead>\n",
              "  <tbody>\n",
              "    <tr>\n",
              "      <th>BALANCE</th>\n",
              "      <td>8950.0</td>\n",
              "      <td>1564.474828</td>\n",
              "      <td>2081.531879</td>\n",
              "      <td>0.000000</td>\n",
              "      <td>128.281915</td>\n",
              "      <td>873.385231</td>\n",
              "      <td>2054.140036</td>\n",
              "      <td>19043.13856</td>\n",
              "    </tr>\n",
              "    <tr>\n",
              "      <th>BALANCE_FREQUENCY</th>\n",
              "      <td>8950.0</td>\n",
              "      <td>0.877271</td>\n",
              "      <td>0.236904</td>\n",
              "      <td>0.000000</td>\n",
              "      <td>0.888889</td>\n",
              "      <td>1.000000</td>\n",
              "      <td>1.000000</td>\n",
              "      <td>1.00000</td>\n",
              "    </tr>\n",
              "    <tr>\n",
              "      <th>PURCHASES</th>\n",
              "      <td>8950.0</td>\n",
              "      <td>1003.204834</td>\n",
              "      <td>2136.634782</td>\n",
              "      <td>0.000000</td>\n",
              "      <td>39.635000</td>\n",
              "      <td>361.280000</td>\n",
              "      <td>1110.130000</td>\n",
              "      <td>49039.57000</td>\n",
              "    </tr>\n",
              "    <tr>\n",
              "      <th>ONEOFF_PURCHASES</th>\n",
              "      <td>8950.0</td>\n",
              "      <td>592.437371</td>\n",
              "      <td>1659.887917</td>\n",
              "      <td>0.000000</td>\n",
              "      <td>0.000000</td>\n",
              "      <td>38.000000</td>\n",
              "      <td>577.405000</td>\n",
              "      <td>40761.25000</td>\n",
              "    </tr>\n",
              "    <tr>\n",
              "      <th>INSTALLMENTS_PURCHASES</th>\n",
              "      <td>8950.0</td>\n",
              "      <td>411.067645</td>\n",
              "      <td>904.338115</td>\n",
              "      <td>0.000000</td>\n",
              "      <td>0.000000</td>\n",
              "      <td>89.000000</td>\n",
              "      <td>468.637500</td>\n",
              "      <td>22500.00000</td>\n",
              "    </tr>\n",
              "    <tr>\n",
              "      <th>CASH_ADVANCE</th>\n",
              "      <td>8950.0</td>\n",
              "      <td>978.871112</td>\n",
              "      <td>2097.163877</td>\n",
              "      <td>0.000000</td>\n",
              "      <td>0.000000</td>\n",
              "      <td>0.000000</td>\n",
              "      <td>1113.821139</td>\n",
              "      <td>47137.21176</td>\n",
              "    </tr>\n",
              "    <tr>\n",
              "      <th>PURCHASES_FREQUENCY</th>\n",
              "      <td>8950.0</td>\n",
              "      <td>0.490351</td>\n",
              "      <td>0.401371</td>\n",
              "      <td>0.000000</td>\n",
              "      <td>0.083333</td>\n",
              "      <td>0.500000</td>\n",
              "      <td>0.916667</td>\n",
              "      <td>1.00000</td>\n",
              "    </tr>\n",
              "    <tr>\n",
              "      <th>ONEOFF_PURCHASES_FREQUENCY</th>\n",
              "      <td>8950.0</td>\n",
              "      <td>0.202458</td>\n",
              "      <td>0.298336</td>\n",
              "      <td>0.000000</td>\n",
              "      <td>0.000000</td>\n",
              "      <td>0.083333</td>\n",
              "      <td>0.300000</td>\n",
              "      <td>1.00000</td>\n",
              "    </tr>\n",
              "    <tr>\n",
              "      <th>PURCHASES_INSTALLMENTS_FREQUENCY</th>\n",
              "      <td>8950.0</td>\n",
              "      <td>0.364437</td>\n",
              "      <td>0.397448</td>\n",
              "      <td>0.000000</td>\n",
              "      <td>0.000000</td>\n",
              "      <td>0.166667</td>\n",
              "      <td>0.750000</td>\n",
              "      <td>1.00000</td>\n",
              "    </tr>\n",
              "    <tr>\n",
              "      <th>CASH_ADVANCE_FREQUENCY</th>\n",
              "      <td>8950.0</td>\n",
              "      <td>0.135144</td>\n",
              "      <td>0.200121</td>\n",
              "      <td>0.000000</td>\n",
              "      <td>0.000000</td>\n",
              "      <td>0.000000</td>\n",
              "      <td>0.222222</td>\n",
              "      <td>1.50000</td>\n",
              "    </tr>\n",
              "    <tr>\n",
              "      <th>CASH_ADVANCE_TRX</th>\n",
              "      <td>8950.0</td>\n",
              "      <td>3.248827</td>\n",
              "      <td>6.824647</td>\n",
              "      <td>0.000000</td>\n",
              "      <td>0.000000</td>\n",
              "      <td>0.000000</td>\n",
              "      <td>4.000000</td>\n",
              "      <td>123.00000</td>\n",
              "    </tr>\n",
              "    <tr>\n",
              "      <th>PURCHASES_TRX</th>\n",
              "      <td>8950.0</td>\n",
              "      <td>14.709832</td>\n",
              "      <td>24.857649</td>\n",
              "      <td>0.000000</td>\n",
              "      <td>1.000000</td>\n",
              "      <td>7.000000</td>\n",
              "      <td>17.000000</td>\n",
              "      <td>358.00000</td>\n",
              "    </tr>\n",
              "    <tr>\n",
              "      <th>CREDIT_LIMIT</th>\n",
              "      <td>8949.0</td>\n",
              "      <td>4494.449450</td>\n",
              "      <td>3638.815725</td>\n",
              "      <td>50.000000</td>\n",
              "      <td>1600.000000</td>\n",
              "      <td>3000.000000</td>\n",
              "      <td>6500.000000</td>\n",
              "      <td>30000.00000</td>\n",
              "    </tr>\n",
              "    <tr>\n",
              "      <th>PAYMENTS</th>\n",
              "      <td>8950.0</td>\n",
              "      <td>1733.143852</td>\n",
              "      <td>2895.063757</td>\n",
              "      <td>0.000000</td>\n",
              "      <td>383.276166</td>\n",
              "      <td>856.901546</td>\n",
              "      <td>1901.134317</td>\n",
              "      <td>50721.48336</td>\n",
              "    </tr>\n",
              "    <tr>\n",
              "      <th>MINIMUM_PAYMENTS</th>\n",
              "      <td>8637.0</td>\n",
              "      <td>864.206542</td>\n",
              "      <td>2372.446607</td>\n",
              "      <td>0.019163</td>\n",
              "      <td>169.123707</td>\n",
              "      <td>312.343947</td>\n",
              "      <td>825.485459</td>\n",
              "      <td>76406.20752</td>\n",
              "    </tr>\n",
              "    <tr>\n",
              "      <th>PRC_FULL_PAYMENT</th>\n",
              "      <td>8950.0</td>\n",
              "      <td>0.153715</td>\n",
              "      <td>0.292499</td>\n",
              "      <td>0.000000</td>\n",
              "      <td>0.000000</td>\n",
              "      <td>0.000000</td>\n",
              "      <td>0.142857</td>\n",
              "      <td>1.00000</td>\n",
              "    </tr>\n",
              "    <tr>\n",
              "      <th>TENURE</th>\n",
              "      <td>8950.0</td>\n",
              "      <td>11.517318</td>\n",
              "      <td>1.338331</td>\n",
              "      <td>6.000000</td>\n",
              "      <td>12.000000</td>\n",
              "      <td>12.000000</td>\n",
              "      <td>12.000000</td>\n",
              "      <td>12.00000</td>\n",
              "    </tr>\n",
              "  </tbody>\n",
              "</table>\n",
              "</div>\n",
              "      <button class=\"colab-df-convert\" onclick=\"convertToInteractive('df-6e6d1b68-2a46-4750-b61e-8e1f910d0ae0')\"\n",
              "              title=\"Convert this dataframe to an interactive table.\"\n",
              "              style=\"display:none;\">\n",
              "        \n",
              "  <svg xmlns=\"http://www.w3.org/2000/svg\" height=\"24px\"viewBox=\"0 0 24 24\"\n",
              "       width=\"24px\">\n",
              "    <path d=\"M0 0h24v24H0V0z\" fill=\"none\"/>\n",
              "    <path d=\"M18.56 5.44l.94 2.06.94-2.06 2.06-.94-2.06-.94-.94-2.06-.94 2.06-2.06.94zm-11 1L8.5 8.5l.94-2.06 2.06-.94-2.06-.94L8.5 2.5l-.94 2.06-2.06.94zm10 10l.94 2.06.94-2.06 2.06-.94-2.06-.94-.94-2.06-.94 2.06-2.06.94z\"/><path d=\"M17.41 7.96l-1.37-1.37c-.4-.4-.92-.59-1.43-.59-.52 0-1.04.2-1.43.59L10.3 9.45l-7.72 7.72c-.78.78-.78 2.05 0 2.83L4 21.41c.39.39.9.59 1.41.59.51 0 1.02-.2 1.41-.59l7.78-7.78 2.81-2.81c.8-.78.8-2.07 0-2.86zM5.41 20L4 18.59l7.72-7.72 1.47 1.35L5.41 20z\"/>\n",
              "  </svg>\n",
              "      </button>\n",
              "      \n",
              "  <style>\n",
              "    .colab-df-container {\n",
              "      display:flex;\n",
              "      flex-wrap:wrap;\n",
              "      gap: 12px;\n",
              "    }\n",
              "\n",
              "    .colab-df-convert {\n",
              "      background-color: #E8F0FE;\n",
              "      border: none;\n",
              "      border-radius: 50%;\n",
              "      cursor: pointer;\n",
              "      display: none;\n",
              "      fill: #1967D2;\n",
              "      height: 32px;\n",
              "      padding: 0 0 0 0;\n",
              "      width: 32px;\n",
              "    }\n",
              "\n",
              "    .colab-df-convert:hover {\n",
              "      background-color: #E2EBFA;\n",
              "      box-shadow: 0px 1px 2px rgba(60, 64, 67, 0.3), 0px 1px 3px 1px rgba(60, 64, 67, 0.15);\n",
              "      fill: #174EA6;\n",
              "    }\n",
              "\n",
              "    [theme=dark] .colab-df-convert {\n",
              "      background-color: #3B4455;\n",
              "      fill: #D2E3FC;\n",
              "    }\n",
              "\n",
              "    [theme=dark] .colab-df-convert:hover {\n",
              "      background-color: #434B5C;\n",
              "      box-shadow: 0px 1px 3px 1px rgba(0, 0, 0, 0.15);\n",
              "      filter: drop-shadow(0px 1px 2px rgba(0, 0, 0, 0.3));\n",
              "      fill: #FFFFFF;\n",
              "    }\n",
              "  </style>\n",
              "\n",
              "      <script>\n",
              "        const buttonEl =\n",
              "          document.querySelector('#df-6e6d1b68-2a46-4750-b61e-8e1f910d0ae0 button.colab-df-convert');\n",
              "        buttonEl.style.display =\n",
              "          google.colab.kernel.accessAllowed ? 'block' : 'none';\n",
              "\n",
              "        async function convertToInteractive(key) {\n",
              "          const element = document.querySelector('#df-6e6d1b68-2a46-4750-b61e-8e1f910d0ae0');\n",
              "          const dataTable =\n",
              "            await google.colab.kernel.invokeFunction('convertToInteractive',\n",
              "                                                     [key], {});\n",
              "          if (!dataTable) return;\n",
              "\n",
              "          const docLinkHtml = 'Like what you see? Visit the ' +\n",
              "            '<a target=\"_blank\" href=https://colab.research.google.com/notebooks/data_table.ipynb>data table notebook</a>'\n",
              "            + ' to learn more about interactive tables.';\n",
              "          element.innerHTML = '';\n",
              "          dataTable['output_type'] = 'display_data';\n",
              "          await google.colab.output.renderOutput(dataTable, element);\n",
              "          const docLink = document.createElement('div');\n",
              "          docLink.innerHTML = docLinkHtml;\n",
              "          element.appendChild(docLink);\n",
              "        }\n",
              "      </script>\n",
              "    </div>\n",
              "  </div>\n",
              "  "
            ]
          },
          "metadata": {}
        }
      ]
    },
    {
      "cell_type": "code",
      "source": [
        "df2 =  df2.fillna(value={'CREDIT_LIMIT':4494.449450,'MINIMUM_PAYMENTS': 8637.0})\n"
      ],
      "metadata": {
        "id": "you8qMpAUPxB"
      },
      "execution_count": 131,
      "outputs": []
    },
    {
      "cell_type": "code",
      "source": [
        "print(\"\\033[1m==> Filling and Cross Ckeck Null Values \\n\")\n",
        "display(df2.isnull().any())"
      ],
      "metadata": {
        "colab": {
          "base_uri": "https://localhost:8080/",
          "height": 381
        },
        "id": "m3Cv4JIuUVqL",
        "outputId": "287c9bb4-258b-444d-c48e-92a21d8d4d2b"
      },
      "execution_count": 132,
      "outputs": [
        {
          "output_type": "stream",
          "name": "stdout",
          "text": [
            "\u001b[1m==> Filling and Cross Ckeck Null Values \n",
            "\n"
          ]
        },
        {
          "output_type": "display_data",
          "data": {
            "text/plain": [
              "CUST_ID                             False\n",
              "BALANCE                             False\n",
              "BALANCE_FREQUENCY                   False\n",
              "PURCHASES                           False\n",
              "ONEOFF_PURCHASES                    False\n",
              "INSTALLMENTS_PURCHASES              False\n",
              "CASH_ADVANCE                        False\n",
              "PURCHASES_FREQUENCY                 False\n",
              "ONEOFF_PURCHASES_FREQUENCY          False\n",
              "PURCHASES_INSTALLMENTS_FREQUENCY    False\n",
              "CASH_ADVANCE_FREQUENCY              False\n",
              "CASH_ADVANCE_TRX                    False\n",
              "PURCHASES_TRX                       False\n",
              "CREDIT_LIMIT                        False\n",
              "PAYMENTS                            False\n",
              "MINIMUM_PAYMENTS                    False\n",
              "PRC_FULL_PAYMENT                    False\n",
              "TENURE                              False\n",
              "dtype: bool"
            ]
          },
          "metadata": {}
        }
      ]
    },
    {
      "cell_type": "markdown",
      "source": [
        "# b) Use the elbow method to find a good number of clusters with the K-Means algorithm"
      ],
      "metadata": {
        "id": "GuZzqSztXWsS"
      }
    },
    {
      "cell_type": "code",
      "source": [
        "wcss = []\n",
        "for i in range(1,11):\n",
        "    kmeans = KMeans(n_clusters=i,init='k-means++',max_iter=300,n_init=10,random_state=0)\n",
        "    kmeans.fit(M)\n",
        "    wcss.append(kmeans.inertia_)\n",
        "\n",
        "plt.plot(range(1,11),wcss)\n",
        "plt.title('the elbow method')\n",
        "plt.xlabel('Number of Clusters')\n",
        "plt.ylabel('Wcss')\n",
        "plt.show()"
      ],
      "metadata": {
        "colab": {
          "base_uri": "https://localhost:8080/",
          "height": 301
        },
        "id": "Ks7ihTOhRWZs",
        "outputId": "b57ab5e3-2922-41f8-9396-fdd09f44e8e1"
      },
      "execution_count": 133,
      "outputs": [
        {
          "output_type": "display_data",
          "data": {
            "text/plain": [
              "<Figure size 432x288 with 1 Axes>"
            ],
            "image/png": "[encoded data removed]"
          },
          "metadata": {}
        }
      ]
    },
    {
      "cell_type": "code",
      "source": [
        "from sklearn.cluster import KMeans\n",
        "nclusters = 4 # k is the k in kmeans\n",
        "km = KMeans(n_clusters=nclusters)\n",
        "km.fit(M)"
      ],
      "metadata": {
        "colab": {
          "base_uri": "https://localhost:8080/"
        },
        "id": "znLY9sFVRhLV",
        "outputId": "5d730400-e332-4a89-dfdc-fc1548e68edd"
      },
      "execution_count": 134,
      "outputs": [
        {
          "output_type": "execute_result",
          "data": {
            "text/plain": [
              "KMeans(n_clusters=4)"
            ]
          },
          "metadata": {},
          "execution_count": 134
        }
      ]
    },
    {
      "cell_type": "markdown",
      "source": [
        "# c) Calculate the silhouette score for the above clustering"
      ],
      "metadata": {
        "id": "TaVRXfEsXnBJ"
      }
    },
    {
      "cell_type": "code",
      "source": [
        "B_cluster_kmeans = km.predict(M)\n",
        "from sklearn import metrics\n",
        "score = metrics.silhouette_score(M, B_cluster_kmeans)\n",
        "print('Silhouette score:',score)"
      ],
      "metadata": {
        "colab": {
          "base_uri": "https://localhost:8080/"
        },
        "id": "lFooeMfuRkv4",
        "outputId": "07495c02-1d9e-4196-f37e-73a171a0e84d"
      },
      "execution_count": 135,
      "outputs": [
        {
          "output_type": "stream",
          "name": "stdout",
          "text": [
            "Silhouette score: 0.4668944721818304\n"
          ]
        }
      ]
    },
    {
      "cell_type": "markdown",
      "source": [
        "# 3) Data Analysis\n",
        "\n",
        "# Try feature scaling and then apply K-Means on the scaled features. Did that improve the Silhouette score? If Yes, can you justify why"
      ],
      "metadata": {
        "id": "eRszLxXxXt8Q"
      }
    },
    {
      "cell_type": "code",
      "source": [
        "columns=['']"
      ],
      "metadata": {
        "id": "lJNblJFuR2zq"
      },
      "execution_count": 136,
      "outputs": []
    },
    {
      "cell_type": "code",
      "source": [
        "scaler = preprocessing.StandardScaler()\n",
        "scaler.fit(M)\n",
        "A_scaled_array = scaler.transform(M)\n",
        "A_scaled = pd.DataFrame(A_scaled_array, columns = df2.columns[1:])"
      ],
      "metadata": {
        "id": "iiWASd8yR5MS"
      },
      "execution_count": 137,
      "outputs": []
    },
    {
      "cell_type": "code",
      "source": [
        "from sklearn.cluster import KMeans\n",
        "nclusters = 4 \n",
        "km = KMeans(n_clusters=nclusters)\n",
        "km.fit(A_scaled)"
      ],
      "metadata": {
        "colab": {
          "base_uri": "https://localhost:8080/"
        },
        "id": "MGWuwqaASBZF",
        "outputId": "24ca50bf-17d5-4d6b-b33d-d57fe25446ca"
      },
      "execution_count": 138,
      "outputs": [
        {
          "output_type": "execute_result",
          "data": {
            "text/plain": [
              "KMeans(n_clusters=4)"
            ]
          },
          "metadata": {},
          "execution_count": 138
        }
      ]
    },
    {
      "cell_type": "code",
      "source": [
        "\n",
        "B_scaled_cluster_kmeans = km.predict(A_scaled)\n",
        "from sklearn import metrics\n",
        "score = metrics.silhouette_score(A_scaled, B_scaled_cluster_kmeans)\n",
        "print('Silhouette score after applying scaling:',score)"
      ],
      "metadata": {
        "colab": {
          "base_uri": "https://localhost:8080/"
        },
        "id": "_nb5fZgwSPAw",
        "outputId": "e369ca48-e628-46ab-fca7-fc643b7758ce"
      },
      "execution_count": 139,
      "outputs": [
        {
          "output_type": "stream",
          "name": "stdout",
          "text": [
            "Silhouette score after applying scaling: 0.1976074492720698\n"
          ]
        }
      ]
    },
    {
      "cell_type": "markdown",
      "source": [
        "Yes, it has improved the Silhouette score as we are removing the outliers and normalizing the data. It can also be improved using hyper opt technique and to reduce the dimension to get more sophisticated predictions PCA is using."
      ],
      "metadata": {
        "id": "2hxYsbDSX8TX"
      }
    }
  ]
}